{
  "nbformat": 4,
  "nbformat_minor": 0,
  "metadata": {
    "colab": {
      "provenance": []
    },
    "kernelspec": {
      "name": "python3",
      "display_name": "Python 3"
    },
    "language_info": {
      "name": "python"
    }
  },
  "cells": [
    {
      "cell_type": "markdown",
      "source": [
        "# Problem:\n",
        "1.\tNewly built ----- Y = a newly built property, N = an established residential building\n",
        "Duration Relates to the tenure: F = Freehold, L= Leasehold etc.\n"
      ],
      "metadata": {
        "id": "X8T3G1x-Ipn4"
      }
    },
    {
      "cell_type": "code",
      "source": [
        "import matplotlib.pyplot as plt\n",
        "import numpy as np\n",
        "import pandas as pd\n"
      ],
      "metadata": {
        "id": "KTyQIIozIGtg"
      },
      "execution_count": null,
      "outputs": []
    },
    {
      "cell_type": "code",
      "source": [
        "data = {'Freehold': [50, 30], 'Leasehold': [70, 20], 'Commonhold': [10, 5]}\n",
        "df = pd.DataFrame(data, index=['Newly Built', 'Established'])\n"
      ],
      "metadata": {
        "id": "4OYUOy27IKAY"
      },
      "execution_count": null,
      "outputs": []
    },
    {
      "cell_type": "code",
      "source": [
        "fig, ax = plt.subplots()\n",
        "bar_width = 0.35\n",
        "opacity = 0.8\n",
        "\n",
        "index = np.arange(len(df.index))\n",
        "rects1 = ax.bar(index, df['Freehold'], bar_width,\n",
        "                alpha=opacity, color='b', label='Freehold')\n",
        "\n",
        "rects2 = ax.bar(index + bar_width, df['Leasehold'], bar_width,\n",
        "                alpha=opacity, color='g', label='Leasehold')\n",
        "\n",
        "rects3 = ax.bar(index + 2 * bar_width, df['Commonhold'], bar_width,\n",
        "                alpha=opacity, color='r', label='Commonhold')\n",
        "\n",
        "ax.set_xlabel('Property Type')\n",
        "ax.set_ylabel('Count')\n",
        "ax.set_title('Newly Built vs Established Properties by Tenure')\n",
        "ax.set_xticks(index + bar_width)\n",
        "ax.set_xticklabels(df.index)\n",
        "ax.legend()\n",
        "\n",
        "plt.show()\n"
      ],
      "metadata": {
        "colab": {
          "base_uri": "https://localhost:8080/",
          "height": 295
        },
        "id": "cyeNcFV_IJvq",
        "outputId": "dd058f73-65ce-46da-caab-7d57b9bfdf5e"
      },
      "execution_count": null,
      "outputs": [
        {
          "output_type": "display_data",
          "data": {
            "text/plain": [
              "<Figure size 432x288 with 1 Axes>"
            ],
            "image/png": "[encoded data removed]"
          },
          "metadata": {
            "needs_background": "light"
          }
        }
      ]
    },
    {
      "cell_type": "code",
      "source": [],
      "metadata": {
        "id": "9VkjjoK7IJe_"
      },
      "execution_count": null,
      "outputs": []
    },
    {
      "cell_type": "markdown",
      "source": [
        "# Problem:\n",
        "1.\tCreate a class named (Car)\n",
        "2.\tCall constructor\n",
        "3.\tCreate 3 attributes under that (name, price, colour)\n",
        "4.\tCreate 3 functions - 1. sound 2. speed 3. display (to display 1 and 2 fuctions)\n",
        "5.\tCreate a child class named (Thar) and inherite Car\n",
        "6.\tCreate two objects under that child class and access the functions for them.\n"
      ],
      "metadata": {
        "id": "zTHOCO-qD-MC"
      }
    },
    {
      "cell_type": "code",
      "execution_count": null,
      "metadata": {
        "colab": {
          "base_uri": "https://localhost:8080/"
        },
        "id": "70JMgAPRDvMA",
        "outputId": "ddde1a46-dfc9-4a40-f3b5-8c9ee2e7d3bc"
      },
      "outputs": [
        {
          "output_type": "stream",
          "name": "stdout",
          "text": [
            "Vroom! Vroom!\n",
            "This car can go up to 200 km/h.\n",
            "Name:  Mahindra Thar\n",
            "Price:  1300000\n",
            "Colour:  Red\n",
            "Vroom! Vroom!\n",
            "This car can go up to 200 km/h.\n",
            "Name:  Mahindra Thar Adventure\n",
            "Price:  1500000\n",
            "Colour:  Black\n"
          ]
        }
      ],
      "source": [
        "class Car():\n",
        "    def __init__(self, name, price, colour):\n",
        "        self.name = name\n",
        "        self.price = price\n",
        "        self.colour = colour\n",
        "    \n",
        "    def sound(self):\n",
        "        print(\"Vroom! Vroom!\")\n",
        "    \n",
        "    def speed(self):\n",
        "        print(\"This car can go up to 200 km/h.\")\n",
        "    \n",
        "    def display(self):\n",
        "        print(\"Name: \", self.name)\n",
        "        print(\"Price: \", self.price)\n",
        "        print(\"Colour: \", self.colour)\n",
        "\n",
        "class Thar(Car):\n",
        "    pass\n",
        "\n",
        "# Creating objects of the Thar class\n",
        "thar1 = Thar(\"Mahindra Thar\", 1300000, \"Red\")\n",
        "thar2 = Thar(\"Mahindra Thar Adventure\", 1500000, \"Black\")\n",
        "\n",
        "# Accessing functions for the first Thar object\n",
        "thar1.sound()\n",
        "thar1.speed()\n",
        "thar1.display()\n",
        "\n",
        "# Accessing functions for the second Thar object\n",
        "thar2.sound()\n",
        "thar2.speed()\n",
        "thar2.display()\n"
      ]
    },
    {
      "cell_type": "code",
      "source": [],
      "metadata": {
        "id": "QY3gHG1nEEfD"
      },
      "execution_count": null,
      "outputs": []
    }
  ]
}